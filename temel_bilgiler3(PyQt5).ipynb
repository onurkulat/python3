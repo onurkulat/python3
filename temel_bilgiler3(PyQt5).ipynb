{
 "cells": [
  {
   "cell_type": "markdown",
   "metadata": {},
   "source": [
    "PyQt5 KURULUMU"
   ]
  },
  {
   "cell_type": "raw",
   "metadata": {},
   "source": [
    "Arayüz geliştirmemizi sağlamaktadır.\n",
    "sudo apt-get install python-pyqt5\n",
    "sudo apt-get install python3-pyqt5.qtsql\n",
    "sudo apt-get install qttools5-dev-tools"
   ]
  },
  {
   "cell_type": "code",
   "execution_count": 3,
   "metadata": {},
   "outputs": [],
   "source": [
    "import PyQt5"
   ]
  },
  {
   "cell_type": "markdown",
   "metadata": {},
   "source": [
    "Yararlı Kaynaklar\n",
    "PyQt5 ile ilgili yararlı kaynaklar;\n",
    "\n",
    "PyQt5 Dokümantasyon : http://pyqt.sourceforge.net/Docs/PyQt5/class_reference.html\n",
    "\n",
    "ZetCode Tutorial : http://zetcode.com/gui/pyqt5/\n",
    "\n",
    "Tutorials Point : https://www.tutorialspoint.com/pyqt/pyqt_tutorial.pdf\n",
    "\n"
   ]
  },
  {
   "cell_type": "code",
   "execution_count": 2,
   "metadata": {
    "scrolled": false
   },
   "outputs": [
    {
     "ename": "SystemExit",
     "evalue": "0",
     "output_type": "error",
     "traceback": [
      "An exception has occurred, use %tb to see the full traceback.\n",
      "\u001b[0;31mSystemExit\u001b[0m\u001b[0;31m:\u001b[0m 0\n"
     ]
    }
   ],
   "source": [
    "#pencere oluşturma ve pencere özellikleri\n",
    "import sys\n",
    "from PyQt5 import QtWidgets\n",
    "\n",
    "def Pencere():\n",
    "    app=QtWidgets.QApplication(sys.argv)#uygulama oluşturma\n",
    "    \n",
    "    pencere=QtWidgets.QWidget()#pencere objesi oluşturma\n",
    "    pencere.setWindowTitle(\"PyQt5\")#pencereye isim verme\n",
    "    pencere.setGeometry(100,100,500,500)#100,100 ekrandaki konum 500,500 pencere boyutu\n",
    "    pencere.show()#pencereyi göstermek için\n",
    "    \n",
    "    sys.exit(app.exec_())#çalışır durumda kalması için\n",
    "    \n",
    "Pencere()"
   ]
  },
  {
   "cell_type": "code",
   "execution_count": 6,
   "metadata": {},
   "outputs": [
    {
     "ename": "SystemExit",
     "evalue": "0",
     "output_type": "error",
     "traceback": [
      "An exception has occurred, use %tb to see the full traceback.\n",
      "\u001b[0;31mSystemExit\u001b[0m\u001b[0;31m:\u001b[0m 0\n"
     ]
    }
   ],
   "source": [
    "#pencereye yazı ve resim ekleme\n",
    "#pencere oluşturma ve pencere özellikleri\n",
    "import sys\n",
    "from PyQt5 import QtWidgets,QtGui\n",
    "\n",
    "def Pencere():\n",
    "    app=QtWidgets.QApplication(sys.argv)#uygulama oluşturma\n",
    "    \n",
    "    pencere=QtWidgets.QWidget()#pencere objesi oluşturma\n",
    "    pencere.setWindowTitle(\"PyQt5\")#pencereye isim verme\n",
    "    etiket1=QtWidgets.QLabel(pencere)#pencereye eklemek\n",
    "    etiket2=QtWidgets.QLabel(pencere)\n",
    "    etiket1.setText(\"Burası bir yazıdır.\")\n",
    "    etiket1.move(200,30)#yazıyı taşıma\n",
    "    etiket2.setPixmap(QtGui.QPixmap(\"python.png\"))#resim ekleme\n",
    "    etiket2.move(150,60)\n",
    "\n",
    "    pencere.setGeometry(100,100,500,500)#100,100 ekrandaki konum 500,500 pencere boyutu\n",
    "    pencere.show()#pencereyi göstermek için\n",
    "    \n",
    "    sys.exit(app.exec_())#çalışır durumda kalması için\n",
    "    \n",
    "Pencere()"
   ]
  },
  {
   "cell_type": "code",
   "execution_count": 10,
   "metadata": {},
   "outputs": [
    {
     "ename": "SystemExit",
     "evalue": "0",
     "output_type": "error",
     "traceback": [
      "An exception has occurred, use %tb to see the full traceback.\n",
      "\u001b[0;31mSystemExit\u001b[0m\u001b[0;31m:\u001b[0m 0\n"
     ]
    }
   ],
   "source": [
    "#Pencereye buton ve yazı ekleme\n",
    "import sys\n",
    "from PyQt5 import QtWidgets\n",
    "\n",
    "def Pencere():\n",
    "    app=QtWidgets.QApplication(sys.argv)\n",
    "    pencere=QtWidgets.QWidget()\n",
    "    pencere.setWindowTitle(\"PyQt5\")\n",
    "    \n",
    "    buton=QtWidgets.QPushButton(pencere)\n",
    "    buton.setText(\"Bu bir butondur\")\n",
    "    etiket=QtWidgets.QLabel(pencere)\n",
    "    etiket.setText(\"Merhaba Dünya\")\n",
    "    \n",
    "    etiket.move(200,30)\n",
    "    buton.move(195,80)\n",
    "    \n",
    "    pencere.setGeometry(100,100,500,500)\n",
    "    pencere.show()\n",
    "    sys.exit(app.exec_())\n",
    "\n",
    "Pencere()"
   ]
  },
  {
   "cell_type": "markdown",
   "metadata": {},
   "source": [
    "Horizontal ve Vertical Box Layout Oluşturma"
   ]
  },
  {
   "cell_type": "code",
   "execution_count": 2,
   "metadata": {},
   "outputs": [
    {
     "ename": "SystemExit",
     "evalue": "0",
     "output_type": "error",
     "traceback": [
      "An exception has occurred, use %tb to see the full traceback.\n",
      "\u001b[0;31mSystemExit\u001b[0m\u001b[0;31m:\u001b[0m 0\n"
     ]
    }
   ],
   "source": [
    "import sys\n",
    "from PyQt5 import QtWidgets\n",
    "\n",
    "def Pencere():\n",
    "    app=QtWidgets.QApplication(sys.argv)\n",
    "    \n",
    "    okay=QtWidgets.QPushButton(\"Tamam\")\n",
    "    cancel=QtWidgets.QPushButton(\"İptal\")\n",
    "    \n",
    "    h_box=QtWidgets.QHBoxLayout()\n",
    "    \n",
    "    h_box.addWidget(okay)\n",
    "    h_box.addWidget(cancel)\n",
    "    #h_box.addStretch()  butonu sola yaslama\n",
    "    \n",
    "    pencere=QtWidgets.QWidget()\n",
    "    pencere.setWindowTitle(\"PyQt5\")\n",
    "    \n",
    "    pencere.setLayout(h_box)\n",
    "    \n",
    "    pencere.setGeometry(100,100,500,500)\n",
    "    pencere.show()\n",
    "    \n",
    "    sys.exit(app.exec_())\n",
    "    \n",
    "Pencere()"
   ]
  },
  {
   "cell_type": "code",
   "execution_count": 6,
   "metadata": {},
   "outputs": [
    {
     "ename": "SystemExit",
     "evalue": "0",
     "output_type": "error",
     "traceback": [
      "An exception has occurred, use %tb to see the full traceback.\n",
      "\u001b[0;31mSystemExit\u001b[0m\u001b[0;31m:\u001b[0m 0\n"
     ]
    }
   ],
   "source": [
    "import sys\n",
    "from PyQt5 import QtWidgets\n",
    "\n",
    "def Pencere():\n",
    "    app=QtWidgets.QApplication(sys.argv)\n",
    "    \n",
    "    okay=QtWidgets.QPushButton(\"Tamam\")\n",
    "    cancel=QtWidgets.QPushButton(\"İptal\")\n",
    "    \n",
    "    v_box=QtWidgets.QVBoxLayout()\n",
    "    \n",
    "    v_box.addWidget(okay)\n",
    "    v_box.addWidget(cancel)\n",
    "    v_box.addStretch()#yukarı yaslama\n",
    "    \n",
    "    pencere=QtWidgets.QWidget()\n",
    "    pencere.setWindowTitle(\"PyQt5\")\n",
    "    \n",
    "    pencere.setLayout(v_box)\n",
    "    \n",
    "    pencere.setGeometry(100,100,500,500)\n",
    "    pencere.show()\n",
    "    \n",
    "    sys.exit(app.exec_())\n",
    "    \n",
    "Pencere()"
   ]
  },
  {
   "cell_type": "code",
   "execution_count": 3,
   "metadata": {},
   "outputs": [
    {
     "ename": "SystemExit",
     "evalue": "0",
     "output_type": "error",
     "traceback": [
      "An exception has occurred, use %tb to see the full traceback.\n",
      "\u001b[0;31mSystemExit\u001b[0m\u001b[0;31m:\u001b[0m 0\n"
     ]
    }
   ],
   "source": [
    "#butonları sağ alt köşeye yerleştirme\n",
    "import sys\n",
    "from PyQt5 import QtWidgets\n",
    "\n",
    "def Pencere():\n",
    "    app=QtWidgets.QApplication(sys.argv)\n",
    "    \n",
    "    okay=QtWidgets.QPushButton(\"Tamam\")\n",
    "    cancel=QtWidgets.QPushButton(\"İptal\")\n",
    "    \n",
    "    h_box=QtWidgets.QHBoxLayout()\n",
    "    \n",
    "    h_box.addStretch()\n",
    "    h_box.addWidget(okay)\n",
    "    h_box.addWidget(cancel)\n",
    "    \n",
    "    v_box=QtWidgets.QVBoxLayout()\n",
    "    \n",
    "    v_box.addStretch()\n",
    "    v_box.addLayout(h_box)\n",
    "     \n",
    "    pencere=QtWidgets.QWidget()\n",
    "    pencere.setWindowTitle(\"PyQt5\")\n",
    "    \n",
    "    pencere.setLayout(v_box)\n",
    "    \n",
    "    pencere.setGeometry(100,100,500,500)\n",
    "    pencere.show()\n",
    "    \n",
    "    sys.exit(app.exec_())\n",
    "    \n",
    "Pencere()"
   ]
  },
  {
   "cell_type": "markdown",
   "metadata": {},
   "source": [
    "Butonlara Fonksiyonel Özellik Kazandırma"
   ]
  },
  {
   "cell_type": "code",
   "execution_count": 2,
   "metadata": {},
   "outputs": [
    {
     "ename": "SystemExit",
     "evalue": "0",
     "output_type": "error",
     "traceback": [
      "An exception has occurred, use %tb to see the full traceback.\n",
      "\u001b[0;31mSystemExit\u001b[0m\u001b[0;31m:\u001b[0m 0\n"
     ]
    },
    {
     "name": "stderr",
     "output_type": "stream",
     "text": [
      "/home/onur/anaconda3/lib/python3.7/site-packages/IPython/core/interactiveshell.py:3333: UserWarning: To exit: use 'exit', 'quit', or Ctrl-D.\n",
      "  warn(\"To exit: use 'exit', 'quit', or Ctrl-D.\", stacklevel=1)\n"
     ]
    }
   ],
   "source": [
    "import sys\n",
    "\n",
    "from PyQt5 import QtWidgets\n",
    "\n",
    "class Pencere(QtWidgets.QWidget):\n",
    "\n",
    "    def __init__(self):\n",
    "\n",
    "        super().__init__()\n",
    "\n",
    "        self.init_ui()\n",
    "    def  init_ui(self):\n",
    "\n",
    "        self.yazı_alanı = QtWidgets.QLabel(\"Bana henüz tıklanmadı..\")\n",
    "        self.buton = QtWidgets.QPushButton(\"Bana Tıkla\")\n",
    "        self.say = 0\n",
    "\n",
    "\n",
    "        v_box = QtWidgets.QVBoxLayout()\n",
    "\n",
    "        v_box.addWidget(self.buton)\n",
    "        v_box.addWidget(self.yazı_alanı)\n",
    "        v_box.addStretch()\n",
    "\n",
    "\n",
    "        h_box = QtWidgets.QHBoxLayout()\n",
    "\n",
    "        h_box.addStretch()\n",
    "        h_box.addLayout(v_box)\n",
    "        h_box.addStretch()\n",
    "\n",
    "\n",
    "        self.setLayout(h_box)\n",
    "\n",
    "        self.buton.clicked.connect(self.click)\n",
    "\n",
    "        self.show()\n",
    "    def click(self):\n",
    "        self.say += 1\n",
    "        self.yazı_alanı.setText(\"Bana \" + str(self.say) + \" defa tıklandı.\")\n",
    "\n",
    "\n",
    "\n",
    "\n",
    "\n",
    "app = QtWidgets.QApplication(sys.argv)\n",
    "\n",
    "pencere = Pencere()\n",
    "\n",
    "sys.exit(app.exec_())\n"
   ]
  },
  {
   "cell_type": "markdown",
   "metadata": {},
   "source": [
    "QLineEdit Oluşturma ve Input Alma"
   ]
  },
  {
   "cell_type": "code",
   "execution_count": 1,
   "metadata": {},
   "outputs": [
    {
     "name": "stdout",
     "output_type": "stream",
     "text": [
      "adafafas\n",
      "adafafas\n"
     ]
    },
    {
     "ename": "SystemExit",
     "evalue": "0",
     "output_type": "error",
     "traceback": [
      "An exception has occurred, use %tb to see the full traceback.\n",
      "\u001b[0;31mSystemExit\u001b[0m\u001b[0;31m:\u001b[0m 0\n"
     ]
    },
    {
     "name": "stderr",
     "output_type": "stream",
     "text": [
      "/home/onur/anaconda3/lib/python3.7/site-packages/IPython/core/interactiveshell.py:3333: UserWarning: To exit: use 'exit', 'quit', or Ctrl-D.\n",
      "  warn(\"To exit: use 'exit', 'quit', or Ctrl-D.\", stacklevel=1)\n"
     ]
    }
   ],
   "source": [
    "import sys\n",
    "from PyQt5 import  QtWidgets\n",
    "\n",
    "\n",
    "class Pencere(QtWidgets.QWidget):\n",
    "    def __init__(self):\n",
    "\n",
    "        super().__init__()\n",
    "\n",
    "        self.init_ui()\n",
    "\n",
    "    def init_ui(self):\n",
    "\n",
    "        self.yazı_alanı = QtWidgets.QLineEdit()\n",
    "        self.temizle = QtWidgets.QPushButton(\"Temizle\")\n",
    "        self.yazdır = QtWidgets.QPushButton(\"Yazdır\")\n",
    "\n",
    "        v_box = QtWidgets.QVBoxLayout()\n",
    "\n",
    "        v_box.addWidget(self.yazı_alanı)\n",
    "        v_box.addWidget(self.temizle)\n",
    "        v_box.addWidget(self.yazdır)\n",
    "        v_box.addStretch()\n",
    "\n",
    "        self.setLayout(v_box)\n",
    "\n",
    "\n",
    "        self.temizle.clicked.connect(self.click)\n",
    "        self.yazdır.clicked.connect(self.click)\n",
    "\n",
    "\n",
    "\n",
    "        self.show()\n",
    "\n",
    "    def click(self):\n",
    "        sender = self.sender()\n",
    "\n",
    "        if sender.text() == \"Temizle\":\n",
    "            self.yazı_alanı.clear()\n",
    "\n",
    "        else:\n",
    "            print(self.yazı_alanı.text())\n",
    "\n",
    "\n",
    "\n",
    "\n",
    "app = QtWidgets.QApplication(sys.argv)\n",
    "\n",
    "pencere = Pencere()\n",
    "\n",
    "sys.exit(app.exec_())"
   ]
  },
  {
   "cell_type": "code",
   "execution_count": 1,
   "metadata": {
    "scrolled": true
   },
   "outputs": [
    {
     "ename": "SystemExit",
     "evalue": "0",
     "output_type": "error",
     "traceback": [
      "An exception has occurred, use %tb to see the full traceback.\n",
      "\u001b[0;31mSystemExit\u001b[0m\u001b[0;31m:\u001b[0m 0\n"
     ]
    },
    {
     "name": "stderr",
     "output_type": "stream",
     "text": [
      "/home/onur/anaconda3/lib/python3.7/site-packages/IPython/core/interactiveshell.py:3333: UserWarning: To exit: use 'exit', 'quit', or Ctrl-D.\n",
      "  warn(\"To exit: use 'exit', 'quit', or Ctrl-D.\", stacklevel=1)\n"
     ]
    }
   ],
   "source": [
    "#Kullanıcı girişi örneği\n",
    "import sys\n",
    "from PyQt5 import QtWidgets\n",
    "\n",
    "class Pencere(QtWidgets.QWidget):\n",
    "    def __init__(self):\n",
    "        super().__init__()\n",
    "        self.init_ui()\n",
    "        \n",
    "    def init_ui(self):\n",
    "        self.kullanici_adi=QtWidgets.QLineEdit()\n",
    "        self.parola=QtWidgets.QLineEdit()\n",
    "        self.parola.setEchoMode(QtWidgets.QLineEdit.Password)\n",
    "        self.giris=QtWidgets.QPushButton(\"Giris Yap\")\n",
    "        self.yazi_alani=QtWidgets.QLabel(\"\")\n",
    "        \n",
    "        v_box=QtWidgets.QVBoxLayout()\n",
    "        v_box.addWidget(self.kullanici_adi)\n",
    "        v_box.addWidget(self.parola)\n",
    "        v_box.addWidget(self.yazi_alani)\n",
    "        v_box.addStretch()\n",
    "        v_box.addWidget(self.giris)\n",
    "        \n",
    "        h_box=QtWidgets.QHBoxLayout()\n",
    "        h_box.addStretch()\n",
    "        h_box.addLayout(v_box)\n",
    "        h_box.addStretch()\n",
    "        \n",
    "        \n",
    "        self.setLayout(h_box)\n",
    "        \n",
    "        self.setWindowTitle(\"Kullanici Girisi\")\n",
    "        \n",
    "        self.show()\n",
    "        \n",
    "\n",
    "app=QtWidgets.QApplication(sys.argv)\n",
    "pencere=Pencere()\n",
    "sys.exit(app.exec_())"
   ]
  },
  {
   "cell_type": "code",
   "execution_count": 1,
   "metadata": {
    "scrolled": true
   },
   "outputs": [
    {
     "ename": "SystemExit",
     "evalue": "0",
     "output_type": "error",
     "traceback": [
      "An exception has occurred, use %tb to see the full traceback.\n",
      "\u001b[0;31mSystemExit\u001b[0m\u001b[0;31m:\u001b[0m 0\n"
     ]
    },
    {
     "name": "stderr",
     "output_type": "stream",
     "text": [
      "/home/onur/anaconda3/lib/python3.7/site-packages/IPython/core/interactiveshell.py:3333: UserWarning: To exit: use 'exit', 'quit', or Ctrl-D.\n",
      "  warn(\"To exit: use 'exit', 'quit', or Ctrl-D.\", stacklevel=1)\n"
     ]
    }
   ],
   "source": [
    "#Kullanıcı girişiyle veritabanı bağlantısı\n",
    "#Kullanıcı girişi örneği\n",
    "import sys\n",
    "import sqlite3\n",
    "from PyQt5 import QtWidgets\n",
    "\n",
    "class Pencere(QtWidgets.QWidget):\n",
    "    def __init__(self):\n",
    "        super().__init__()\n",
    "        \n",
    "        self.baglanti_olustur()\n",
    "        \n",
    "        self.init_ui()\n",
    "        \n",
    "    def baglanti_olustur(self):\n",
    "        baglanti=sqlite3.connect(\"database.db\")\n",
    "        self.cursor=baglanti.cursor()\n",
    "        self.cursor.execute(\"Create Table if not exists üyeler (kullanıcı_adı TEXT,parola TEXT)\")\n",
    "        \n",
    "        baglanti.commit()\n",
    "        \n",
    "    def init_ui(self):\n",
    "        self.kullanici_adi=QtWidgets.QLineEdit()\n",
    "        self.parola=QtWidgets.QLineEdit()\n",
    "        self.parola.setEchoMode(QtWidgets.QLineEdit.Password)\n",
    "        self.giris=QtWidgets.QPushButton(\"Giris Yap\")\n",
    "        self.yazi_alani=QtWidgets.QLabel(\"\")\n",
    "        \n",
    "        v_box=QtWidgets.QVBoxLayout()\n",
    "        v_box.addWidget(self.kullanici_adi)\n",
    "        v_box.addWidget(self.parola)\n",
    "        v_box.addWidget(self.yazi_alani)\n",
    "        v_box.addStretch()\n",
    "        v_box.addWidget(self.giris)\n",
    "        \n",
    "        h_box=QtWidgets.QHBoxLayout()\n",
    "        h_box.addStretch()\n",
    "        h_box.addLayout(v_box)\n",
    "        h_box.addStretch()\n",
    "        \n",
    "        \n",
    "        self.setLayout(h_box)\n",
    "        \n",
    "        self.setWindowTitle(\"Kullanici Girisi\")\n",
    "        self.giris.clicked.connect(self.login)\n",
    "        self.show()\n",
    "        \n",
    "    def login(self):\n",
    "        adi=self.kullanici_adi.text()\n",
    "        par=self.parola.text()\n",
    "        \n",
    "        self.cursor.execute(\"Select * From üyeler where kullanıcı_adı=? and parola=?\",(adi,par))\n",
    "        \n",
    "        data=self.cursor.fetchall()\n",
    "        \n",
    "        if len(data)==0:\n",
    "            self.yazi_alani.setText(\"Böyle bir kullanıcı yok..\")\n",
    "        else:\n",
    "            self.yazi_alani.setText(\"Hoşgeldiniz \"+adi)\n",
    "        \n",
    "\n",
    "app=QtWidgets.QApplication(sys.argv)\n",
    "pencere=Pencere()\n",
    "sys.exit(app.exec_())"
   ]
  },
  {
   "cell_type": "markdown",
   "metadata": {},
   "source": [
    "PyQt5 Checkbox Kullanımı"
   ]
  },
  {
   "cell_type": "code",
   "execution_count": 1,
   "metadata": {},
   "outputs": [
    {
     "ename": "SystemExit",
     "evalue": "0",
     "output_type": "error",
     "traceback": [
      "An exception has occurred, use %tb to see the full traceback.\n",
      "\u001b[0;31mSystemExit\u001b[0m\u001b[0;31m:\u001b[0m 0\n"
     ]
    },
    {
     "name": "stderr",
     "output_type": "stream",
     "text": [
      "/home/onur/anaconda3/lib/python3.7/site-packages/IPython/core/interactiveshell.py:3333: UserWarning: To exit: use 'exit', 'quit', or Ctrl-D.\n",
      "  warn(\"To exit: use 'exit', 'quit', or Ctrl-D.\", stacklevel=1)\n"
     ]
    }
   ],
   "source": [
    "import sys\n",
    "\n",
    "from PyQt5.QtWidgets import QWidget,QApplication,QCheckBox,QLabel,QPushButton,QVBoxLayout\n",
    "\n",
    "class Pencere(QWidget):\n",
    "    def __init__(self):\n",
    "        super().__init__()\n",
    "        self.init_ui()\n",
    "        \n",
    "    def init_ui(self):\n",
    "        self.checkbox=QCheckBox(\"Python'ı seviyor musunuz?\")\n",
    "        self.yazi_alani=QLabel(\"\")\n",
    "        self.buton=QPushButton(\"Bana Tıkla\")\n",
    "        \n",
    "        v_box=QVBoxLayout()\n",
    "        v_box.addWidget(self.checkbox)\n",
    "        v_box.addWidget(self.yazi_alani)\n",
    "        v_box.addWidget(self.buton)\n",
    "        \n",
    "        self.setLayout(v_box)\n",
    "        \n",
    "        self.setWindowTitle(\"Check Box\")\n",
    "        \n",
    "        self.buton.clicked.connect(lambda: self.click(self.checkbox.isChecked(),self.yazi_alani))\n",
    "        \n",
    "        self.show()\n",
    "        \n",
    "        \n",
    "    def click(self,checkbox,yazi_alani):\n",
    "        if checkbox:\n",
    "            yazi_alani.setText(\"Teşekkürler\")\n",
    "        else:\n",
    "            yazi_alani.setText(\"Üzdün..\")\n",
    "    \n",
    "        \n",
    "app=QApplication(sys.argv)\n",
    "pencere=Pencere()\n",
    "sys.exit(app.exec_())"
   ]
  },
  {
   "cell_type": "markdown",
   "metadata": {},
   "source": [
    "RadioButton Kullanımı"
   ]
  },
  {
   "cell_type": "code",
   "execution_count": 6,
   "metadata": {},
   "outputs": [
    {
     "ename": "SystemExit",
     "evalue": "0",
     "output_type": "error",
     "traceback": [
      "An exception has occurred, use %tb to see the full traceback.\n",
      "\u001b[0;31mSystemExit\u001b[0m\u001b[0;31m:\u001b[0m 0\n"
     ]
    },
    {
     "name": "stderr",
     "output_type": "stream",
     "text": [
      "/home/onur/anaconda3/lib/python3.7/site-packages/IPython/core/interactiveshell.py:3333: UserWarning: To exit: use 'exit', 'quit', or Ctrl-D.\n",
      "  warn(\"To exit: use 'exit', 'quit', or Ctrl-D.\", stacklevel=1)\n"
     ]
    }
   ],
   "source": [
    "import sys\n",
    "\n",
    "from PyQt5.QtWidgets import QWidget,QApplication,QRadioButton,QLabel,QPushButton,QVBoxLayout\n",
    "\n",
    "\n",
    "class Pencere(QWidget):\n",
    "    def __init__(self):\n",
    "\n",
    "        super().__init__()\n",
    "\n",
    "        self.init_ui()\n",
    "\n",
    "    def init_ui(self):\n",
    "\n",
    "        self.radio_yazisi = QLabel(\"Hangi dili daha çok seviyorsun ?\")\n",
    "\n",
    "        self.java = QRadioButton(\"Java\")\n",
    "        self.python = QRadioButton(\"Python\")\n",
    "        self.php = QRadioButton(\"Php\")\n",
    "\n",
    "        self.yazi_alani = QLabel(\"\")\n",
    "\n",
    "        self.buton = QPushButton(\"Gönder\")\n",
    "\n",
    "        v_box = QVBoxLayout()\n",
    "\n",
    "        v_box.addWidget(self.radio_yazisi)\n",
    "        v_box.addWidget(self.java)\n",
    "        v_box.addWidget(self.python)\n",
    "        v_box.addWidget(self.php)\n",
    "        v_box.addStretch()\n",
    "        v_box.addWidget(self.yazi_alani)\n",
    "        v_box.addWidget(self.buton)\n",
    "\n",
    "        self.setLayout(v_box)\n",
    "\n",
    "        self.buton.clicked.connect(lambda : self.click(self.python.isChecked(),self.java.isChecked(),self.php.isChecked(),self.yazi_alani))\n",
    "\n",
    "        self.setWindowTitle(\"Radio Button\")\n",
    "\n",
    "        self.show()\n",
    "\n",
    "    def click(self,python,java,php,yazi_alani):\n",
    "        if python:\n",
    "            yazi_alani.setText(\"Python\")\n",
    "        if php:\n",
    "            yazi_alani.setText(\"Php\")\n",
    "        if java:\n",
    "            yazi_alani.setText(\"Java\")\n",
    "\n",
    "\n",
    "app = QApplication(sys.argv)\n",
    "\n",
    "pencere = Pencere()\n",
    "\n",
    "sys.exit(app.exec_())"
   ]
  },
  {
   "cell_type": "markdown",
   "metadata": {},
   "source": [
    "QTextEdit Oluşturma ve Yazı Alanları"
   ]
  },
  {
   "cell_type": "code",
   "execution_count": 1,
   "metadata": {},
   "outputs": [
    {
     "ename": "SystemExit",
     "evalue": "0",
     "output_type": "error",
     "traceback": [
      "An exception has occurred, use %tb to see the full traceback.\n",
      "\u001b[0;31mSystemExit\u001b[0m\u001b[0;31m:\u001b[0m 0\n"
     ]
    },
    {
     "name": "stderr",
     "output_type": "stream",
     "text": [
      "/home/onur/anaconda3/lib/python3.7/site-packages/IPython/core/interactiveshell.py:3333: UserWarning: To exit: use 'exit', 'quit', or Ctrl-D.\n",
      "  warn(\"To exit: use 'exit', 'quit', or Ctrl-D.\", stacklevel=1)\n"
     ]
    }
   ],
   "source": [
    "import sys\n",
    "\n",
    "from PyQt5.QtWidgets import QWidget,QApplication,QTextEdit,QLabel,QPushButton,QVBoxLayout\n",
    "\n",
    "\n",
    "class Pencere(QWidget):\n",
    "    def __init__(self):\n",
    "\n",
    "        super().__init__()\n",
    "\n",
    "        self.init_ui()\n",
    "\n",
    "    def init_ui(self):\n",
    "\n",
    "        self.yazi_alani = QTextEdit()\n",
    "\n",
    "        self.temizle = QPushButton(\"Temizle\")\n",
    "\n",
    "        v_box = QVBoxLayout()\n",
    "\n",
    "        v_box.addWidget(self.yazi_alani)\n",
    "        v_box.addWidget(self.temizle)\n",
    "\n",
    "        self.setWindowTitle(\"Yazı Alanı\")\n",
    "\n",
    "        self.setLayout(v_box)\n",
    "        self.temizle.clicked.connect(self.click)\n",
    "\n",
    "        self.show()\n",
    "\n",
    "    def click(self):\n",
    "\n",
    "        self.yazi_alani.clear()\n",
    "\n",
    "\n",
    "\n",
    "\n",
    "\n",
    "\n",
    "\n",
    "\n",
    "app = QApplication(sys.argv)\n",
    "\n",
    "pencere = Pencere()\n",
    "\n",
    "sys.exit(app.exec_())"
   ]
  },
  {
   "cell_type": "markdown",
   "metadata": {},
   "source": [
    "Notepad Projesi : QFileDialog Kullanımı ve Notepad Arayüzü Tasarlama"
   ]
  },
  {
   "cell_type": "code",
   "execution_count": 1,
   "metadata": {},
   "outputs": [
    {
     "ename": "SystemExit",
     "evalue": "0",
     "output_type": "error",
     "traceback": [
      "An exception has occurred, use %tb to see the full traceback.\n",
      "\u001b[0;31mSystemExit\u001b[0m\u001b[0;31m:\u001b[0m 0\n"
     ]
    },
    {
     "name": "stderr",
     "output_type": "stream",
     "text": [
      "/home/onur/anaconda3/lib/python3.7/site-packages/IPython/core/interactiveshell.py:3333: UserWarning: To exit: use 'exit', 'quit', or Ctrl-D.\n",
      "  warn(\"To exit: use 'exit', 'quit', or Ctrl-D.\", stacklevel=1)\n"
     ]
    }
   ],
   "source": [
    "import sys\n",
    "import os\n",
    "\n",
    "from PyQt5.QtWidgets import QWidget,QApplication,QTextEdit,QLabel,QPushButton,QVBoxLayout,QFileDialog,QHBoxLayout\n",
    "\n",
    "from PyQt5.QtWidgets import QAction,qApp,QMainWindow\n",
    "\n",
    "class Notepad(QWidget):\n",
    "    def __init__(self):\n",
    "\n",
    "        super().__init__()\n",
    "\n",
    "        self.init_ui()\n",
    "    def init_ui(self):\n",
    "\n",
    "        self.yazi_alani = QTextEdit()\n",
    "\n",
    "        self.temizle = QPushButton(\"Temizle\")\n",
    "        self.ac = QPushButton(\"Aç\")\n",
    "        self.kaydet = QPushButton(\"Kaydet\")\n",
    "\n",
    "        h_box = QHBoxLayout()\n",
    "\n",
    "        h_box.addWidget(self.temizle)\n",
    "        h_box.addWidget(self.ac)\n",
    "        h_box.addWidget(self.kaydet)\n",
    "\n",
    "        v_box = QVBoxLayout()\n",
    "\n",
    "        v_box.addWidget(self.yazi_alani)\n",
    "\n",
    "        v_box.addLayout(h_box)\n",
    "\n",
    "        self.setLayout(v_box)\n",
    "\n",
    "        self.setWindowTitle(\"NotePad\")\n",
    "        self.temizle.clicked.connect(self.yaziyi_temizle)\n",
    "        self.ac.clicked.connect(self.dosya_ac)\n",
    "        self.kaydet.clicked.connect(self.dosya_kaydet)\n",
    "\n",
    "\n",
    "\n",
    "\n",
    "    def yaziyi_temizle(self):\n",
    "        self.yazi_alani.clear()\n",
    "\n",
    "    def dosya_ac(self):\n",
    "        dosya_ismi = QFileDialog.getOpenFileName(self,\"Dosya Aç\",os.getenv(\"HOME\"))\n",
    "\n",
    "        with open(dosya_ismi[0],\"r\") as file:\n",
    "            self.yazi_alani.setText(file.read())\n",
    "\n",
    "    def dosya_kaydet(self):\n",
    "        dosya_ismi = QFileDialog.getSaveFileName(self,\"Dosya Kaydet\",os.getenv(\"HOME\"))\n",
    "\n",
    "        with open(dosya_ismi[0],\"w\") as file:\n",
    "\n",
    "            file.write(self.yazi_alani.toPlainText())\n",
    "\n",
    "class Menu(QMainWindow):\n",
    "\n",
    "    def __init__(self):\n",
    "\n",
    "        super().__init__()\n",
    "\n",
    "\n",
    "        self.pencere = Notepad()\n",
    "\n",
    "        self.setCentralWidget(self.pencere)\n",
    "\n",
    "\n",
    "        self.menuleri_olustur()\n",
    "    def menuleri_olustur(self):\n",
    "\n",
    "        menubar = self.menuBar()\n",
    "\n",
    "        dosya = menubar.addMenu(\"Dosya\")\n",
    "\n",
    "        dosya_ac = QAction(\"Dosya Aç\",self)\n",
    "        dosya_ac.setShortcut(\"Ctrl+O\")\n",
    "\n",
    "        dosya_kaydet = QAction(\"Dosya Kaydet\",self)\n",
    "\n",
    "        dosya_kaydet.setShortcut(\"Ctrl+S\")\n",
    "\n",
    "        temizle = QAction(\"Dosyayı Temizle\",self)\n",
    "        temizle.setShortcut(\"Ctrl+D\")\n",
    "\n",
    "        cikis = QAction(\"Çıkış\",self)\n",
    "\n",
    "        cikis.setShortcut(\"Ctrl+Q\")\n",
    "\n",
    "        dosya.addAction(dosya_ac)\n",
    "        dosya.addAction(dosya_kaydet)\n",
    "        dosya.addAction(temizle)\n",
    "        dosya.addAction(cikis)\n",
    "\n",
    "        dosya.triggered.connect(self.response)\n",
    "\n",
    "\n",
    "        self.setWindowTitle(\"Metin Editörü\")\n",
    "\n",
    "        self.show()\n",
    "\n",
    "    def response(self,action):\n",
    "\n",
    "        if action.text() == \"Dosya Aç\":\n",
    "            self.pencere.dosya_ac()\n",
    "\n",
    "        elif action.text() == \"Dosya Kaydet\":\n",
    "            self.pencere.dosya_kaydet()\n",
    "        elif action.text() == \"Dosyayı Temizle\":\n",
    "            self.pencere.yaziyi_temizle()\n",
    "\n",
    "        elif action.text() == \"Çıkış\":\n",
    "            qApp.quit()\n",
    "\n",
    "\n",
    "\n",
    "\n",
    "\n",
    "\n",
    "\n",
    "\n",
    "app = QApplication(sys.argv)\n",
    "\n",
    "menu = Menu()\n",
    "\n",
    "\n",
    "sys.exit(app.exec_())"
   ]
  },
  {
   "cell_type": "markdown",
   "metadata": {},
   "source": [
    "Menü Oluşturma ve Alt Menüler"
   ]
  },
  {
   "cell_type": "code",
   "execution_count": 1,
   "metadata": {},
   "outputs": [
    {
     "ename": "SystemExit",
     "evalue": "0",
     "output_type": "error",
     "traceback": [
      "An exception has occurred, use %tb to see the full traceback.\n",
      "\u001b[0;31mSystemExit\u001b[0m\u001b[0;31m:\u001b[0m 0\n"
     ]
    },
    {
     "name": "stderr",
     "output_type": "stream",
     "text": [
      "/home/onur/anaconda3/lib/python3.7/site-packages/IPython/core/interactiveshell.py:3333: UserWarning: To exit: use 'exit', 'quit', or Ctrl-D.\n",
      "  warn(\"To exit: use 'exit', 'quit', or Ctrl-D.\", stacklevel=1)\n"
     ]
    }
   ],
   "source": [
    "import sys\n",
    "\n",
    "from PyQt5.QtWidgets import QApplication,QAction,qApp,QMainWindow\n",
    "\n",
    "\n",
    "class Menu(QMainWindow):\n",
    "\n",
    "    def __init__(self):\n",
    "\n",
    "        super().__init__()\n",
    "\n",
    "        menubar = self.menuBar()\n",
    "\n",
    "        dosya = menubar.addMenu(\"Dosya\")\n",
    "        duzenle = menubar.addMenu(\"Düzenle\")\n",
    "\n",
    "        dosya_ac = QAction(\"Dosya Aç\",self)\n",
    "\n",
    "        dosya_ac.setShortcut(\"Ctrl+O\")\n",
    "\n",
    "        dosya_kaydet = QAction(\"Dosya Kaydet\",self)\n",
    "        dosya_kaydet.setShortcut(\"Ctrl+S\")\n",
    "        cikis = QAction(\"Çıkış\", self)\n",
    "        cikis.setShortcut(\"Ctrl+Q\")\n",
    "\n",
    "        dosya.addAction(dosya_ac)\n",
    "        dosya.addAction(dosya_kaydet)\n",
    "        dosya.addAction(cikis)\n",
    "\n",
    "\n",
    "        ara_ve_degistir = duzenle.addMenu(\"Ara ve Değiştir\")\n",
    "\n",
    "        ara = QAction(\"Ara\",self)\n",
    "\n",
    "        degistir = QAction(\"Değiştir\",self)\n",
    "\n",
    "        temizle = QAction(\"Temizle\",self)\n",
    "\n",
    "        ara_ve_degistir.addAction(ara)\n",
    "\n",
    "        ara_ve_degistir.addAction(degistir)\n",
    "        duzenle.addAction(temizle)\n",
    "\n",
    "\n",
    "\n",
    "        cikis.triggered.connect(self.cikis_yap)\n",
    "\n",
    "        dosya.triggered.connect(self.response)\n",
    "\n",
    "        self.setWindowTitle(\"Menüler\")\n",
    "\n",
    "        self.show()\n",
    "\n",
    "    def cikis_yap(self):\n",
    "        qApp.quit()\n",
    "    def response(self,action):\n",
    "\n",
    "        if action.text() == \"Dosya Aç\":\n",
    "            print(\"Dosya Aç'a basıldı.\")\n",
    "        elif action.text() == \"Dosya Kaydet\":\n",
    "            print(\"Dosya Kaydet'e basıldı.\")\n",
    "        elif action.text() == \"Çıkış\":\n",
    "            print(\"Çıkış'a basıldı.\")\n",
    "\n",
    "\n",
    "\n",
    "app = QApplication(sys.argv)\n",
    "\n",
    "menu = Menu()\n",
    "\n",
    "\n",
    "sys.exit(app.exec_())"
   ]
  },
  {
   "cell_type": "markdown",
   "metadata": {},
   "source": [
    "Notepad Projesi : Projeye Menü Ekleme ve Projeyi Tamamlama"
   ]
  },
  {
   "cell_type": "code",
   "execution_count": 1,
   "metadata": {},
   "outputs": [
    {
     "ename": "SystemExit",
     "evalue": "0",
     "output_type": "error",
     "traceback": [
      "An exception has occurred, use %tb to see the full traceback.\n",
      "\u001b[0;31mSystemExit\u001b[0m\u001b[0;31m:\u001b[0m 0\n"
     ]
    },
    {
     "name": "stderr",
     "output_type": "stream",
     "text": [
      "/home/onur/anaconda3/lib/python3.7/site-packages/IPython/core/interactiveshell.py:3333: UserWarning: To exit: use 'exit', 'quit', or Ctrl-D.\n",
      "  warn(\"To exit: use 'exit', 'quit', or Ctrl-D.\", stacklevel=1)\n"
     ]
    }
   ],
   "source": [
    "import sys\n",
    "import os\n",
    "\n",
    "from PyQt5.QtWidgets import QWidget,QApplication,QTextEdit,QLabel,QPushButton,QVBoxLayout,QFileDialog,QHBoxLayout\n",
    "\n",
    "from PyQt5.QtWidgets import QAction,qApp,QMainWindow\n",
    "\n",
    "class Notepad(QWidget):\n",
    "    def __init__(self):\n",
    "\n",
    "        super().__init__()\n",
    "\n",
    "        self.init_ui()\n",
    "    def init_ui(self):\n",
    "\n",
    "        self.yazi_alani = QTextEdit()\n",
    "\n",
    "        self.temizle = QPushButton(\"Temizle\")\n",
    "        self.ac = QPushButton(\"Aç\")\n",
    "        self.kaydet = QPushButton(\"Kaydet\")\n",
    "\n",
    "        h_box = QHBoxLayout()\n",
    "\n",
    "        h_box.addWidget(self.temizle)\n",
    "        h_box.addWidget(self.ac)\n",
    "        h_box.addWidget(self.kaydet)\n",
    "\n",
    "        v_box = QVBoxLayout()\n",
    "\n",
    "        v_box.addWidget(self.yazi_alani)\n",
    "\n",
    "        v_box.addLayout(h_box)\n",
    "\n",
    "        self.setLayout(v_box)\n",
    "\n",
    "        self.setWindowTitle(\"NotePad\")\n",
    "        self.temizle.clicked.connect(self.yaziyi_temizle)\n",
    "        self.ac.clicked.connect(self.dosya_ac)\n",
    "        self.kaydet.clicked.connect(self.dosya_kaydet)\n",
    "\n",
    "\n",
    "\n",
    "\n",
    "    def yaziyi_temizle(self):\n",
    "        self.yazi_alani.clear()\n",
    "\n",
    "    def dosya_ac(self):\n",
    "        dosya_ismi = QFileDialog.getOpenFileName(self,\"Dosya Aç\",os.getenv(\"HOME\"))\n",
    "\n",
    "        with open(dosya_ismi[0],\"r\") as file:\n",
    "            self.yazi_alani.setText(file.read())\n",
    "\n",
    "    def dosya_kaydet(self):\n",
    "        dosya_ismi = QFileDialog.getSaveFileName(self,\"Dosya Kaydet\",os.getenv(\"HOME\"))\n",
    "\n",
    "        with open(dosya_ismi[0],\"w\") as file:\n",
    "\n",
    "            file.write(self.yazi_alani.toPlainText())\n",
    "\n",
    "class Menu(QMainWindow):\n",
    "\n",
    "    def __init__(self):\n",
    "\n",
    "        super().__init__()\n",
    "\n",
    "\n",
    "        self.pencere = Notepad()\n",
    "\n",
    "        self.setCentralWidget(self.pencere)\n",
    "\n",
    "\n",
    "        self.menuleri_olustur()\n",
    "    def menuleri_olustur(self):\n",
    "\n",
    "        menubar = self.menuBar()\n",
    "\n",
    "        dosya = menubar.addMenu(\"Dosya\")\n",
    "\n",
    "        dosya_ac = QAction(\"Dosya Aç\",self)\n",
    "        dosya_ac.setShortcut(\"Ctrl+O\")\n",
    "\n",
    "        dosya_kaydet = QAction(\"Dosya Kaydet\",self)\n",
    "\n",
    "        dosya_kaydet.setShortcut(\"Ctrl+S\")\n",
    "\n",
    "        temizle = QAction(\"Dosyayı Temizle\",self)\n",
    "        temizle.setShortcut(\"Ctrl+D\")\n",
    "\n",
    "        cikis = QAction(\"Çıkış\",self)\n",
    "\n",
    "        cikis.setShortcut(\"Ctrl+Q\")\n",
    "\n",
    "        dosya.addAction(dosya_ac)\n",
    "        dosya.addAction(dosya_kaydet)\n",
    "        dosya.addAction(temizle)\n",
    "        dosya.addAction(cikis)\n",
    "\n",
    "        dosya.triggered.connect(self.response)\n",
    "\n",
    "\n",
    "        self.setWindowTitle(\"Metin Editörü\")\n",
    "\n",
    "        self.show()\n",
    "\n",
    "    def response(self,action):\n",
    "\n",
    "        if action.text() == \"Dosya Aç\":\n",
    "            self.pencere.dosya_ac()\n",
    "\n",
    "        elif action.text() == \"Dosya Kaydet\":\n",
    "            self.pencere.dosya_kaydet()\n",
    "        elif action.text() == \"Dosyayı Temizle\":\n",
    "            self.pencere.yaziyi_temizle()\n",
    "\n",
    "        elif action.text() == \"Çıkış\":\n",
    "            qApp.quit()\n",
    "\n",
    "\n",
    "\n",
    "\n",
    "\n",
    "\n",
    "\n",
    "\n",
    "app = QApplication(sys.argv)\n",
    "\n",
    "menu = Menu()\n",
    "\n",
    "\n",
    "sys.exit(app.exec_())"
   ]
  },
  {
   "cell_type": "code",
   "execution_count": null,
   "metadata": {},
   "outputs": [],
   "source": []
  }
 ],
 "metadata": {
  "kernelspec": {
   "display_name": "Python 3",
   "language": "python",
   "name": "python3"
  },
  "language_info": {
   "codemirror_mode": {
    "name": "ipython",
    "version": 3
   },
   "file_extension": ".py",
   "mimetype": "text/x-python",
   "name": "python",
   "nbconvert_exporter": "python",
   "pygments_lexer": "ipython3",
   "version": "3.7.3"
  }
 },
 "nbformat": 4,
 "nbformat_minor": 2
}
